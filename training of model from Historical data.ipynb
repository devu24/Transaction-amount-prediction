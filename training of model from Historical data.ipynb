{
 "cells": [
  {
   "cell_type": "code",
   "execution_count": 0,
   "metadata": {
    "application/vnd.databricks.v1+cell": {
     "cellMetadata": {
      "byteLimit": 2048000,
      "rowLimit": 10000
     },
     "inputWidgets": {},
     "nuid": "eb51373b-86e8-4824-9320-7f394f994b14",
     "showTitle": false,
     "tableResultSettingsMap": {},
     "title": ""
    }
   },
   "outputs": [
    {
     "name": "stdout",
     "output_type": "stream",
     "text": [
      "Collecting pymongo\r\n",
      "  Using cached pymongo-4.14.0-cp39-cp39-manylinux_2_17_x86_64.manylinux2014_x86_64.whl (940 kB)\r\n",
      "Collecting dnspython<3.0.0,>=1.16.0\r\n",
      "  Using cached dnspython-2.7.0-py3-none-any.whl (313 kB)\r\n",
      "Installing collected packages: dnspython, pymongo\r\n",
      "Successfully installed dnspython-2.7.0 pymongo-4.14.0\r\n",
      "\u001b[33mWARNING: You are using pip version 21.2.4; however, version 25.2 is available.\r\n",
      "You should consider upgrading via the '/local_disk0/.ephemeral_nfs/envs/pythonEnv-23f7628a-e551-44fb-94ca-460a203b0ae9/bin/python -m pip install --upgrade pip' command.\u001b[0m\r\n"
     ]
    },
    {
     "data": {
      "application/vnd.databricks.v1+bamboolib_hint": "{\"pd.DataFrames\": [], \"version\": \"0.0.1\"}",
      "text/plain": []
     },
     "metadata": {},
     "output_type": "display_data"
    },
    {
     "name": "stdout",
     "output_type": "stream",
     "text": [
      "Pinged your deployment. You successfully connected to MongoDB!\n"
     ]
    }
   ],
   "source": [
    "!pip install pymongo\n",
    "from pymongo.mongo_client import MongoClient\n",
    "from pymongo.server_api import ServerApi\n",
    "import pandas as pd\n",
    "\n",
    "uri = \"mongodb+srv://Devendra:<Your Password>@devendra.e3kfvth.mongodb.net/?retryWrites=true&w=majority&appName=Devendra\"\n",
    "\n",
    "# Create a new client and connect to the server\n",
    "client = MongoClient(uri, server_api=ServerApi('1'))\n",
    "\n",
    "# Send a ping to confirm a successful connection\n",
    "try:\n",
    "    client.admin.command('ping')\n",
    "    print(\"Pinged your deployment. You successfully connected to MongoDB!\")\n",
    "except Exception as e:\n",
    "    print(e)"
   ]
  },
  {
   "cell_type": "code",
   "execution_count": 0,
   "metadata": {
    "application/vnd.databricks.v1+cell": {
     "cellMetadata": {
      "byteLimit": 2048000,
      "rowLimit": 10000
     },
     "inputWidgets": {},
     "nuid": "895481e3-cb16-4491-842a-073e7b45b19e",
     "showTitle": false,
     "tableResultSettingsMap": {},
     "title": ""
    }
   },
   "outputs": [],
   "source": [
    "db = client.get_database('transaction_predict')\n",
    "colllection = db['transaction']"
   ]
  },
  {
   "cell_type": "code",
   "execution_count": 0,
   "metadata": {
    "application/vnd.databricks.v1+cell": {
     "cellMetadata": {
      "byteLimit": 2048000,
      "rowLimit": 10000
     },
     "inputWidgets": {},
     "nuid": "a151d0f9-50e7-424e-8e48-ded9a869b83b",
     "showTitle": false,
     "tableResultSettingsMap": {},
     "title": ""
    }
   },
   "outputs": [],
   "source": [
    "data = list(colllection.find())"
   ]
  },
  {
   "cell_type": "code",
   "execution_count": 0,
   "metadata": {
    "application/vnd.databricks.v1+cell": {
     "cellMetadata": {
      "byteLimit": 2048000,
      "rowLimit": 10000
     },
     "inputWidgets": {},
     "nuid": "36182d89-9f28-4a54-9bc7-efc28d6fe9ae",
     "showTitle": false,
     "tableResultSettingsMap": {},
     "title": ""
    }
   },
   "outputs": [
    {
     "data": {
      "text/html": [
       "<div>\n",
       "<style scoped>\n",
       "    .dataframe tbody tr th:only-of-type {\n",
       "        vertical-align: middle;\n",
       "    }\n",
       "\n",
       "    .dataframe tbody tr th {\n",
       "        vertical-align: top;\n",
       "    }\n",
       "\n",
       "    .dataframe thead th {\n",
       "        text-align: right;\n",
       "    }\n",
       "</style>\n",
       "<table border=\"1\" class=\"dataframe\">\n",
       "  <thead>\n",
       "    <tr style=\"text-align: right;\">\n",
       "      <th></th>\n",
       "      <th>_id</th>\n",
       "      <th>transaction_id</th>\n",
       "      <th>timestamp</th>\n",
       "      <th>user_id</th>\n",
       "      <th>amount</th>\n",
       "      <th>transaction_type</th>\n",
       "      <th>location</th>\n",
       "      <th>location_id</th>\n",
       "      <th>merchant</th>\n",
       "      <th>card_number</th>\n",
       "    </tr>\n",
       "  </thead>\n",
       "  <tbody>\n",
       "    <tr>\n",
       "      <th>0</th>\n",
       "      <td>689f2c23b427ba1ee35cf556</td>\n",
       "      <td>29dc3b24-df7e-4356-a5ea-1ca12b650fa1</td>\n",
       "      <td>1755261637</td>\n",
       "      <td>95469</td>\n",
       "      <td>4896.51</td>\n",
       "      <td>withdrawal</td>\n",
       "      <td>South Williamside</td>\n",
       "      <td>18688</td>\n",
       "      <td>Avila-Nicholson</td>\n",
       "      <td>2237252040848077</td>\n",
       "    </tr>\n",
       "    <tr>\n",
       "      <th>1</th>\n",
       "      <td>689f2c25b427ba1ee35cf557</td>\n",
       "      <td>60a5d60d-5c06-4373-afbd-ede6ed59a7f9</td>\n",
       "      <td>1755261642</td>\n",
       "      <td>64331</td>\n",
       "      <td>4708.28</td>\n",
       "      <td>withdrawal</td>\n",
       "      <td>Port Rachel</td>\n",
       "      <td>17758</td>\n",
       "      <td>Henderson PLC</td>\n",
       "      <td>4540256248330661</td>\n",
       "    </tr>\n",
       "    <tr>\n",
       "      <th>2</th>\n",
       "      <td>689f2c25b427ba1ee35cf558</td>\n",
       "      <td>e3477f7a-1b43-4e9b-a1c3-4217e7a0bce5</td>\n",
       "      <td>1755261655</td>\n",
       "      <td>71304</td>\n",
       "      <td>4588.16</td>\n",
       "      <td>transfer</td>\n",
       "      <td>North Melissaborough</td>\n",
       "      <td>76748</td>\n",
       "      <td>Hall LLC</td>\n",
       "      <td>4969707302891859</td>\n",
       "    </tr>\n",
       "    <tr>\n",
       "      <th>3</th>\n",
       "      <td>689f2c25b427ba1ee35cf559</td>\n",
       "      <td>441beb52-076d-41df-8dc9-1a010525db74</td>\n",
       "      <td>1755261659</td>\n",
       "      <td>88465</td>\n",
       "      <td>1980.23</td>\n",
       "      <td>purchase</td>\n",
       "      <td>Andersontown</td>\n",
       "      <td>27583</td>\n",
       "      <td>Martin, Joseph and Christensen</td>\n",
       "      <td>30301329953364</td>\n",
       "    </tr>\n",
       "    <tr>\n",
       "      <th>4</th>\n",
       "      <td>689f2c25b427ba1ee35cf55a</td>\n",
       "      <td>97c68689-1af5-4bd3-9759-fc0e8f202477</td>\n",
       "      <td>1755261666</td>\n",
       "      <td>74415</td>\n",
       "      <td>3351.97</td>\n",
       "      <td>transfer</td>\n",
       "      <td>Joneschester</td>\n",
       "      <td>57906</td>\n",
       "      <td>Rogers-Peterson</td>\n",
       "      <td>3577239029420040</td>\n",
       "    </tr>\n",
       "  </tbody>\n",
       "</table>\n",
       "</div>"
      ]
     },
     "metadata": {
      "application/vnd.databricks.v1+output": {
       "addedWidgets": {},
       "arguments": {},
       "data": "<div>\n<style scoped>\n    .dataframe tbody tr th:only-of-type {\n        vertical-align: middle;\n    }\n\n    .dataframe tbody tr th {\n        vertical-align: top;\n    }\n\n    .dataframe thead th {\n        text-align: right;\n    }\n</style>\n<table border=\"1\" class=\"dataframe\">\n  <thead>\n    <tr style=\"text-align: right;\">\n      <th></th>\n      <th>_id</th>\n      <th>transaction_id</th>\n      <th>timestamp</th>\n      <th>user_id</th>\n      <th>amount</th>\n      <th>transaction_type</th>\n      <th>location</th>\n      <th>location_id</th>\n      <th>merchant</th>\n      <th>card_number</th>\n    </tr>\n  </thead>\n  <tbody>\n    <tr>\n      <th>0</th>\n      <td>689f2c23b427ba1ee35cf556</td>\n      <td>29dc3b24-df7e-4356-a5ea-1ca12b650fa1</td>\n      <td>1755261637</td>\n      <td>95469</td>\n      <td>4896.51</td>\n      <td>withdrawal</td>\n      <td>South Williamside</td>\n      <td>18688</td>\n      <td>Avila-Nicholson</td>\n      <td>2237252040848077</td>\n    </tr>\n    <tr>\n      <th>1</th>\n      <td>689f2c25b427ba1ee35cf557</td>\n      <td>60a5d60d-5c06-4373-afbd-ede6ed59a7f9</td>\n      <td>1755261642</td>\n      <td>64331</td>\n      <td>4708.28</td>\n      <td>withdrawal</td>\n      <td>Port Rachel</td>\n      <td>17758</td>\n      <td>Henderson PLC</td>\n      <td>4540256248330661</td>\n    </tr>\n    <tr>\n      <th>2</th>\n      <td>689f2c25b427ba1ee35cf558</td>\n      <td>e3477f7a-1b43-4e9b-a1c3-4217e7a0bce5</td>\n      <td>1755261655</td>\n      <td>71304</td>\n      <td>4588.16</td>\n      <td>transfer</td>\n      <td>North Melissaborough</td>\n      <td>76748</td>\n      <td>Hall LLC</td>\n      <td>4969707302891859</td>\n    </tr>\n    <tr>\n      <th>3</th>\n      <td>689f2c25b427ba1ee35cf559</td>\n      <td>441beb52-076d-41df-8dc9-1a010525db74</td>\n      <td>1755261659</td>\n      <td>88465</td>\n      <td>1980.23</td>\n      <td>purchase</td>\n      <td>Andersontown</td>\n      <td>27583</td>\n      <td>Martin, Joseph and Christensen</td>\n      <td>30301329953364</td>\n    </tr>\n    <tr>\n      <th>4</th>\n      <td>689f2c25b427ba1ee35cf55a</td>\n      <td>97c68689-1af5-4bd3-9759-fc0e8f202477</td>\n      <td>1755261666</td>\n      <td>74415</td>\n      <td>3351.97</td>\n      <td>transfer</td>\n      <td>Joneschester</td>\n      <td>57906</td>\n      <td>Rogers-Peterson</td>\n      <td>3577239029420040</td>\n    </tr>\n  </tbody>\n</table>\n</div>",
       "datasetInfos": [],
       "metadata": {},
       "removedWidgets": [],
       "textData": null,
       "type": "htmlSandbox"
      }
     },
     "output_type": "display_data"
    }
   ],
   "source": [
    "df = pd.DataFrame(data)\n",
    "df.head()"
   ]
  },
  {
   "cell_type": "code",
   "execution_count": 0,
   "metadata": {
    "application/vnd.databricks.v1+cell": {
     "cellMetadata": {
      "byteLimit": 2048000,
      "rowLimit": 10000
     },
     "inputWidgets": {},
     "nuid": "301b6455-0369-49ed-8850-083f9e794ff9",
     "showTitle": false,
     "tableResultSettingsMap": {},
     "title": ""
    }
   },
   "outputs": [],
   "source": [
    "df.drop(columns = \"_id\", inplace = True)"
   ]
  },
  {
   "cell_type": "code",
   "execution_count": 0,
   "metadata": {
    "application/vnd.databricks.v1+cell": {
     "cellMetadata": {
      "byteLimit": 2048000,
      "rowLimit": 10000
     },
     "inputWidgets": {},
     "nuid": "1ea4ec9e-26be-4324-8520-7c3107648968",
     "showTitle": false,
     "tableResultSettingsMap": {},
     "title": ""
    }
   },
   "outputs": [],
   "source": [
    "from pyspark.sql import SparkSession\n",
    "from pyspark.sql.functions import *\n",
    "from pyspark.ml.feature import VectorAssembler\n",
    "from pyspark.ml.regression import RandomForestRegressor\n",
    "from pyspark.ml.evaluation import RegressionEvaluator"
   ]
  },
  {
   "cell_type": "code",
   "execution_count": 0,
   "metadata": {
    "application/vnd.databricks.v1+cell": {
     "cellMetadata": {
      "byteLimit": 2048000,
      "rowLimit": 10000
     },
     "inputWidgets": {},
     "nuid": "ea5502e2-bc32-4f8e-8c94-b33184214d02",
     "showTitle": false,
     "tableResultSettingsMap": {},
     "title": ""
    }
   },
   "outputs": [],
   "source": [
    "spark = SparkSession.builder.appName(\"transaction_prediction\").getOrCreate()\n",
    "inventory_df = spark.createDataFrame(df)"
   ]
  },
  {
   "cell_type": "code",
   "execution_count": 0,
   "metadata": {
    "application/vnd.databricks.v1+cell": {
     "cellMetadata": {
      "byteLimit": 2048000,
      "rowLimit": 10000
     },
     "inputWidgets": {},
     "nuid": "9a6e9d41-8f64-467b-a9c0-a7d58ea50b74",
     "showTitle": false,
     "tableResultSettingsMap": {},
     "title": ""
    }
   },
   "outputs": [
    {
     "name": "stdout",
     "output_type": "stream",
     "text": [
      "+--------------------+----------+-------+-------+----------------+--------------------+-----------+--------------------+----------------+\n",
      "|      transaction_id| timestamp|user_id| amount|transaction_type|            location|location_id|            merchant|     card_number|\n",
      "+--------------------+----------+-------+-------+----------------+--------------------+-----------+--------------------+----------------+\n",
      "|29dc3b24-df7e-435...|1755261637|  95469|4896.51|      withdrawal|   South Williamside|      18688|     Avila-Nicholson|2237252040848077|\n",
      "|60a5d60d-5c06-437...|1755261642|  64331|4708.28|      withdrawal|         Port Rachel|      17758|       Henderson PLC|4540256248330661|\n",
      "|e3477f7a-1b43-4e9...|1755261655|  71304|4588.16|        transfer|North Melissaborough|      76748|            Hall LLC|4969707302891859|\n",
      "|441beb52-076d-41d...|1755261659|  88465|1980.23|        purchase|        Andersontown|      27583|Martin, Joseph an...|  30301329953364|\n",
      "|97c68689-1af5-4bd...|1755261666|  74415|3351.97|        transfer|        Joneschester|      57906|     Rogers-Peterson|3577239029420040|\n",
      "+--------------------+----------+-------+-------+----------------+--------------------+-----------+--------------------+----------------+\n",
      "only showing top 5 rows\n",
      "\n"
     ]
    }
   ],
   "source": [
    "inventory_df.show(5)"
   ]
  },
  {
   "cell_type": "code",
   "execution_count": 0,
   "metadata": {
    "application/vnd.databricks.v1+cell": {
     "cellMetadata": {
      "byteLimit": 2048000,
      "rowLimit": 10000
     },
     "inputWidgets": {},
     "nuid": "d2a7a042-290f-4096-b0fa-56303a606d90",
     "showTitle": false,
     "tableResultSettingsMap": {},
     "title": ""
    }
   },
   "outputs": [
    {
     "name": "stdout",
     "output_type": "stream",
     "text": [
      "Out[9]: ['transaction_id',\n",
      " 'timestamp',\n",
      " 'user_id',\n",
      " 'amount',\n",
      " 'transaction_type',\n",
      " 'location',\n",
      " 'location_id',\n",
      " 'merchant',\n",
      " 'card_number']"
     ]
    }
   ],
   "source": [
    "inventory_df.columns"
   ]
  },
  {
   "cell_type": "code",
   "execution_count": 0,
   "metadata": {
    "application/vnd.databricks.v1+cell": {
     "cellMetadata": {
      "byteLimit": 2048000,
      "rowLimit": 10000
     },
     "inputWidgets": {},
     "nuid": "afddfc38-1325-4365-8f24-5c08db70f0a6",
     "showTitle": false,
     "tableResultSettingsMap": {},
     "title": ""
    }
   },
   "outputs": [],
   "source": [
    "inputColumn = ['amount','location_id']"
   ]
  },
  {
   "cell_type": "code",
   "execution_count": 0,
   "metadata": {
    "application/vnd.databricks.v1+cell": {
     "cellMetadata": {
      "byteLimit": 2048000,
      "rowLimit": 10000
     },
     "inputWidgets": {},
     "nuid": "6d89c71c-ad87-4873-a748-4a3a06d370e3",
     "showTitle": false,
     "tableResultSettingsMap": {},
     "title": ""
    }
   },
   "outputs": [],
   "source": [
    "assembler = VectorAssembler(inputCols=['amount','location_id'], outputCol=\"features\")\n",
    "data = assembler.transform(inventory_df).select(\"features\", \"amount\")"
   ]
  },
  {
   "cell_type": "code",
   "execution_count": 0,
   "metadata": {
    "application/vnd.databricks.v1+cell": {
     "cellMetadata": {
      "byteLimit": 2048000,
      "rowLimit": 10000
     },
     "inputWidgets": {},
     "nuid": "81276990-2beb-4907-8480-b250ee0c17cb",
     "showTitle": false,
     "tableResultSettingsMap": {},
     "title": ""
    }
   },
   "outputs": [
    {
     "name": "stdout",
     "output_type": "stream",
     "text": [
      "+-----------------+-------+\n",
      "|         features| amount|\n",
      "+-----------------+-------+\n",
      "|[4896.51,18688.0]|4896.51|\n",
      "|[4708.28,17758.0]|4708.28|\n",
      "|[4588.16,76748.0]|4588.16|\n",
      "|[1980.23,27583.0]|1980.23|\n",
      "|[3351.97,57906.0]|3351.97|\n",
      "|[2162.99,68779.0]|2162.99|\n",
      "| [3277.3,19183.0]| 3277.3|\n",
      "|[3005.33,71330.0]|3005.33|\n",
      "|[4163.99,40196.0]|4163.99|\n",
      "| [125.92,25318.0]| 125.92|\n",
      "| [894.39,42735.0]| 894.39|\n",
      "|[3177.23,50958.0]|3177.23|\n",
      "|[4439.54,89596.0]|4439.54|\n",
      "|[4407.17,37643.0]|4407.17|\n",
      "| [969.42,39700.0]| 969.42|\n",
      "|[2800.61,31516.0]|2800.61|\n",
      "|[4549.92,59397.0]|4549.92|\n",
      "|[4953.37,27717.0]|4953.37|\n",
      "|[4170.56,94997.0]|4170.56|\n",
      "|[2608.92,55907.0]|2608.92|\n",
      "+-----------------+-------+\n",
      "only showing top 20 rows\n",
      "\n"
     ]
    }
   ],
   "source": [
    "data.show()"
   ]
  },
  {
   "cell_type": "code",
   "execution_count": 0,
   "metadata": {
    "application/vnd.databricks.v1+cell": {
     "cellMetadata": {
      "byteLimit": 2048000,
      "rowLimit": 10000
     },
     "inputWidgets": {},
     "nuid": "f4e57fe3-aa72-46a5-a6db-fc70c4bf174a",
     "showTitle": false,
     "tableResultSettingsMap": {},
     "title": ""
    }
   },
   "outputs": [],
   "source": [
    "train_data, test_data = data.randomSplit([0.8,0.2])"
   ]
  },
  {
   "cell_type": "code",
   "execution_count": 0,
   "metadata": {
    "application/vnd.databricks.v1+cell": {
     "cellMetadata": {
      "byteLimit": 2048000,
      "rowLimit": 10000
     },
     "inputWidgets": {},
     "nuid": "d215b0d0-db1a-47d9-90d4-3ad1fdb51684",
     "showTitle": false,
     "tableResultSettingsMap": {},
     "title": ""
    }
   },
   "outputs": [],
   "source": [
    "rf = RandomForestRegressor(featuresCol=\"features\", labelCol=\"amount\", numTrees= 200)\n",
    "model = rf.fit(train_data)"
   ]
  },
  {
   "cell_type": "code",
   "execution_count": 0,
   "metadata": {
    "application/vnd.databricks.v1+cell": {
     "cellMetadata": {
      "byteLimit": 2048000,
      "rowLimit": 10000
     },
     "inputWidgets": {},
     "nuid": "4122241c-8496-42d8-9277-b9bf8663410a",
     "showTitle": false,
     "tableResultSettingsMap": {},
     "title": ""
    }
   },
   "outputs": [],
   "source": [
    "predict = model.transform(test_data)"
   ]
  },
  {
   "cell_type": "code",
   "execution_count": 0,
   "metadata": {
    "application/vnd.databricks.v1+cell": {
     "cellMetadata": {
      "byteLimit": 2048000,
      "rowLimit": 10000
     },
     "inputWidgets": {},
     "nuid": "0bc77c7f-8753-41a2-930a-43e9bf3cd26d",
     "showTitle": false,
     "tableResultSettingsMap": {},
     "title": ""
    }
   },
   "outputs": [
    {
     "name": "stdout",
     "output_type": "stream",
     "text": [
      "Out[16]: 351.8572833383591"
     ]
    }
   ],
   "source": [
    "evaluator = RegressionEvaluator(labelCol=\"amount\", predictionCol=\"prediction\", metricName=\"rmse\")\n",
    "result = evaluator.evaluate(predict)\n",
    "result"
   ]
  },
  {
   "cell_type": "code",
   "execution_count": 0,
   "metadata": {
    "application/vnd.databricks.v1+cell": {
     "cellMetadata": {
      "byteLimit": 2048000,
      "rowLimit": 10000
     },
     "inputWidgets": {},
     "nuid": "9dc973b6-2960-4d0b-b996-babc559970eb",
     "showTitle": false,
     "tableResultSettingsMap": {},
     "title": ""
    }
   },
   "outputs": [],
   "source": [
    "model.save(\"/Workspace/Users/rahulrock2494@gmail.com/Transaction Prediction\")"
   ]
  },
  {
   "cell_type": "code",
   "execution_count": 0,
   "metadata": {
    "application/vnd.databricks.v1+cell": {
     "cellMetadata": {
      "byteLimit": 2048000,
      "rowLimit": 10000
     },
     "inputWidgets": {},
     "nuid": "907b0a68-60bf-4291-aba2-766a69d2d4eb",
     "showTitle": false,
     "tableResultSettingsMap": {},
     "title": ""
    }
   },
   "outputs": [],
   "source": [
    "from pyspark.ml.regression import RandomForestRegressionModel\n",
    "\n",
    "model = RandomForestRegressionModel.load(\n",
    "    \"/Workspace/Users/rahulrock2494@gmail.com/Transaction Prediction\"\n",
    ")"
   ]
  }
 ],
 "metadata": {
  "application/vnd.databricks.v1+notebook": {
   "computePreferences": null,
   "dashboards": [],
   "environmentMetadata": {
    "base_environment": "",
    "environment_version": "1"
   },
   "inputWidgetPreferences": null,
   "language": "python",
   "notebookMetadata": {
    "pythonIndentUnit": 4
   },
   "notebookName": "training of model from Historical data",
   "widgets": {}
  },
  "language_info": {
   "name": "python"
  }
 },
 "nbformat": 4,
 "nbformat_minor": 0
}
