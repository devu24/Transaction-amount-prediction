{
 "cells": [
  {
   "cell_type": "code",
   "execution_count": null,
   "metadata": {},
   "outputs": [],
   "source": [
    "!pip install confluent_kafka\n",
    "!pip install faker"
   ]
  },
  {
   "cell_type": "code",
   "execution_count": 0,
   "metadata": {
    "application/vnd.databricks.v1+cell": {
     "cellMetadata": {},
     "inputWidgets": {},
     "nuid": "d754ba99-32ae-4fb8-82fb-6edee5e00a07",
     "showTitle": false,
     "tableResultSettingsMap": {},
     "title": ""
    }
   },
   "outputs": [],
   "source": [
    "from confluent_kafka import Producer\n",
    "import json, random, time\n",
    "from faker import Faker\n",
    "\n",
    "# COMMAND ----------\n",
    "\n",
    "conf = {\n",
    "    'bootstrap.servers': 'pkc-w77k7w.centralus.azure.confluent.cloud:9092',\n",
    "    'security.protocol': 'SASL_SSL',  # Fixed typo here\n",
    "    'sasl.mechanism': 'PLAIN',\n",
    "    'sasl.username': '36QWHWHZ6CMQYPKH',\n",
    "    'sasl.password': 'Your Key'  # Ensure this is your actual API secret\n",
    "}\n",
    "\n",
    "\n",
    "producer = Producer(conf)\n",
    "fake = Faker()\n",
    "\n",
    "\n",
    "def generate_transaction():\n",
    "    transaction = {\n",
    "        \"transaction_id\" : fake.uuid4(),\n",
    "        \"timestamp\":int(time.time()),\n",
    "        \"user_id\":random.randint(10000,99999),\n",
    "        \"amount\":round(random.uniform(5,5000),2),\n",
    "        \"transaction_type\":random.choice([\"purchase\",\"transfer\", \"withdrawal\"]),\n",
    "        \"location\":fake.city(),\n",
    "        \"location_id\":random.randint(10000,99999),\n",
    "        \"merchant\":fake.company(),\n",
    "        \"card_number\":fake.credit_card_number()\n",
    "    }\n",
    "    return transaction\n",
    "\n",
    "def delivery_report(err,msg):\n",
    "    if err is not None:\n",
    "        print(f\"message is not delivered:{err}\")\n",
    "    else:\n",
    "        print(f\"msg delivered to {msg.topic()}, [{msg.partition()}]\")\n",
    "\n",
    "while True:\n",
    "    txn = generate_transaction()\n",
    "    producer.produce(\"transaction_predict\", value = json.dumps(txn), key = str(txn['user_id']), callback = delivery_report)\n",
    "    producer.flush()\n",
    "    time.sleep(1)\n"
   ]
  }
 ],
 "metadata": {
  "application/vnd.databricks.v1+notebook": {
   "computePreferences": null,
   "dashboards": [],
   "environmentMetadata": {
    "base_environment": "",
    "environment_version": "1"
   },
   "inputWidgetPreferences": null,
   "language": "python",
   "notebookMetadata": {
    "pythonIndentUnit": 4
   },
   "notebookName": "data into kafka",
   "widgets": {}
  },
  "kernelspec": {
   "display_name": "base",
   "language": "python",
   "name": "python3"
  },
  "language_info": {
   "codemirror_mode": {
    "name": "ipython",
    "version": 3
   },
   "file_extension": ".py",
   "mimetype": "text/x-python",
   "name": "python",
   "nbconvert_exporter": "python",
   "pygments_lexer": "ipython3",
   "version": "3.13.5"
  }
 },
 "nbformat": 4,
 "nbformat_minor": 0
}
