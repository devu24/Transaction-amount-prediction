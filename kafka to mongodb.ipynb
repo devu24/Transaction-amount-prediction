{
 "cells": [
  {
   "cell_type": "code",
   "execution_count": 0,
   "metadata": {
    "application/vnd.databricks.v1+cell": {
     "cellMetadata": {
      "byteLimit": 2048000,
      "rowLimit": 10000
     },
     "inputWidgets": {},
     "nuid": "f5783475-44cc-4414-9edf-b5714e85e21f",
     "showTitle": false,
     "tableResultSettingsMap": {},
     "title": ""
    }
   },
   "outputs": [
    {
     "name": "stdout",
     "output_type": "stream",
     "text": [
      "Requirement already satisfied: pymongo in /local_disk0/.ephemeral_nfs/envs/pythonEnv-bc7c53f6-bf51-4a79-a612-ca68bf1fe1ae/lib/python3.9/site-packages (4.14.0)\r\n",
      "Requirement already satisfied: dnspython<3.0.0,>=1.16.0 in /local_disk0/.ephemeral_nfs/envs/pythonEnv-bc7c53f6-bf51-4a79-a612-ca68bf1fe1ae/lib/python3.9/site-packages (from pymongo) (2.7.0)\r\n",
      "\u001b[33mWARNING: You are using pip version 21.2.4; however, version 25.2 is available.\r\n",
      "You should consider upgrading via the '/local_disk0/.ephemeral_nfs/envs/pythonEnv-bc7c53f6-bf51-4a79-a612-ca68bf1fe1ae/bin/python -m pip install --upgrade pip' command.\u001b[0m\r\n",
      "Requirement already satisfied: confluent_kafka in /local_disk0/.ephemeral_nfs/envs/pythonEnv-bc7c53f6-bf51-4a79-a612-ca68bf1fe1ae/lib/python3.9/site-packages (2.11.0)\r\n",
      "\u001b[33mWARNING: You are using pip version 21.2.4; however, version 25.2 is available.\r\n",
      "You should consider upgrading via the '/local_disk0/.ephemeral_nfs/envs/pythonEnv-bc7c53f6-bf51-4a79-a612-ca68bf1fe1ae/bin/python -m pip install --upgrade pip' command.\u001b[0m\r\n"
     ]
    }
   ],
   "source": [
    "!pip install pymongo\n",
    "!pip install confluent_kafka\n",
    "\n",
    "\n",
    "# COMMAND ----------\n",
    "\n",
    "from pymongo.mongo_client import MongoClient\n",
    "from confluent_kafka import Consumer, KafkaException\n",
    "import json\n",
    "import time\n",
    "\n",
    "\n",
    "KAFKA_BOOTSTRAP_SERVER = 'pkc-w77k7w.centralus.azure.confluent.cloud:9092'\n",
    "KAFKA_API_KEY = '36QWHWHZ6CMQYPKH'\n",
    "KAFKA_API_SECRET = 'Your Key'\n",
    "KAFKA_TOPIC = \"transaction_predict\"\n",
    "KAFKA_GROUP_ID = \"fraud-detection-group\"\n",
    "MONGO_URI = \"mongodb+srv://Devendra:<Your Password>@devendra.e3kfvth.mongodb.net/?retryWrites=true&w=majority&appName=Devendra\"\n",
    "MONGO_DB = \"transaction_predict\"\n",
    "MONGO_COLLECTION = \"transaction\"\n",
    "\n",
    "client = MongoClient(MONGO_URI)\n",
    "db = client[MONGO_DB]\n",
    "collection = db[MONGO_COLLECTION]\n",
    "collection_prediction = db['prediction_data']\n",
    "\n",
    "\n",
    "conf = {\n",
    "    'bootstrap.servers': KAFKA_BOOTSTRAP_SERVER,\n",
    "    'security.protocol': 'SASL_SSL',  # Fixed typo here\n",
    "    'sasl.mechanism': 'PLAIN',\n",
    "    'sasl.username': KAFKA_API_KEY,\n",
    "    'sasl.password': KAFKA_API_SECRET, \n",
    "    'group.id': KAFKA_GROUP_ID,\n",
    "    'auto.offset.reset': 'earliest'\n",
    "}\n",
    "\n",
    "consumer = Consumer(conf)\n",
    "consumer.subscribe([KAFKA_TOPIC])\n"
   ]
  },
  {
   "cell_type": "code",
   "execution_count": 0,
   "metadata": {
    "application/vnd.databricks.v1+cell": {
     "cellMetadata": {
      "byteLimit": 2048000,
      "rowLimit": 10000
     },
     "inputWidgets": {},
     "nuid": "b97c9f57-c889-4686-b09b-5f6101c39ee9",
     "showTitle": false,
     "tableResultSettingsMap": {},
     "title": ""
    }
   },
   "outputs": [],
   "source": [
    "from pyspark.ml.regression import RandomForestRegressionModel\n",
    "\n",
    "model = RandomForestRegressionModel.load(\n",
    "    \"/Workspace/Users/rahulrock2494@gmail.com/Transaction Prediction\"\n",
    ")"
   ]
  },
  {
   "cell_type": "code",
   "execution_count": 0,
   "metadata": {
    "application/vnd.databricks.v1+cell": {
     "cellMetadata": {
      "byteLimit": 2048000,
      "rowLimit": 10000
     },
     "inputWidgets": {},
     "nuid": "1955b25b-a6a4-47a7-a928-0b09846eb99b",
     "showTitle": false,
     "tableResultSettingsMap": {},
     "title": ""
    }
   },
   "outputs": [],
   "source": [
    "from pyspark.sql import SparkSession\n",
    "from pyspark.sql.functions import *\n",
    "from pyspark.ml.feature import VectorAssembler\n",
    "import pandas as pd\n",
    "spark = SparkSession.builder.appName(\"transaction_prediction\").getOrCreate()\n"
   ]
  },
  {
   "cell_type": "code",
   "execution_count": 0,
   "metadata": {
    "application/vnd.databricks.v1+cell": {
     "cellMetadata": {
      "byteLimit": 2048000,
      "rowLimit": 10000
     },
     "inputWidgets": {},
     "nuid": "80e40a3b-b8fc-4a61-8fd9-23851b03d5d9",
     "showTitle": false,
     "tableResultSettingsMap": {},
     "title": ""
    }
   },
   "outputs": [
    {
     "name": "stdout",
     "output_type": "stream",
     "text": [
      "[{'amount': 4601.7, 'prediction': 4290.356901504532}]\n",
      "{'amount': 4601.7, 'prediction': 4290.356901504532}\n",
      "{'transaction_id': 'd98b6e5e-c883-44b3-a4a2-043f2e680b08', 'timestamp': 1755279266, 'user_id': 15909, 'amount': 4601.7, 'transaction_type': 'transfer', 'location': 'Lake Lindsey', 'location_id': 83594, 'merchant': 'Andersen-Castaneda', 'card_number': '4570589909760229'}\n",
      "[{'amount': 3840.36, 'prediction': 4143.25494666831}]\n",
      "{'amount': 3840.36, 'prediction': 4143.25494666831}\n",
      "{'transaction_id': '68201c1c-0964-44f9-91ae-5cc2b95a2fff', 'timestamp': 1755279271, 'user_id': 54877, 'amount': 3840.36, 'transaction_type': 'withdrawal', 'location': 'New Shelby', 'location_id': 36814, 'merchant': 'Brown, Cooper and Harmon', 'card_number': '4980249824781396'}\n",
      "[{'amount': 3034.59, 'prediction': 3118.593915834447}]\n",
      "{'amount': 3034.59, 'prediction': 3118.593915834447}\n",
      "{'transaction_id': '52d64a9f-8d82-4c8e-96c3-4993d9082969', 'timestamp': 1755279273, 'user_id': 11107, 'amount': 3034.59, 'transaction_type': 'withdrawal', 'location': 'Ramoston', 'location_id': 62120, 'merchant': 'Yates and Sons', 'card_number': '4569094022134'}\n",
      "[{'amount': 3497.24, 'prediction': 3570.1768217806402}]\n",
      "{'amount': 3497.24, 'prediction': 3570.1768217806402}\n",
      "{'transaction_id': '0ca6936d-f51b-44e3-9c9b-ebfee9fcdda4', 'timestamp': 1755279274, 'user_id': 72111, 'amount': 3497.24, 'transaction_type': 'purchase', 'location': 'Lake Melissa', 'location_id': 51436, 'merchant': 'Smith-White', 'card_number': '213175841622700'}\n",
      "[{'amount': 2148.72, 'prediction': 2141.7438918565294}]\n",
      "{'amount': 2148.72, 'prediction': 2141.7438918565294}\n",
      "{'transaction_id': 'f00a856a-8cac-4997-b9fa-c3bc2f208af8', 'timestamp': 1755279277, 'user_id': 21105, 'amount': 2148.72, 'transaction_type': 'purchase', 'location': 'New Hannah', 'location_id': 80421, 'merchant': 'Carter, Thomas and Gomez', 'card_number': '180024088268224'}\n",
      "[{'amount': 2105.62, 'prediction': 2137.5533117988102}]\n",
      "{'amount': 2105.62, 'prediction': 2137.5533117988102}\n",
      "{'transaction_id': 'be17dd45-bfdc-4176-affb-1da2912ade10', 'timestamp': 1755279297, 'user_id': 52324, 'amount': 2105.62, 'transaction_type': 'transfer', 'location': 'Lake Codyberg', 'location_id': 81089, 'merchant': 'Clarke, Horn and Schmidt', 'card_number': '676127594593'}\n",
      "[{'amount': 4561.79, 'prediction': 4236.485175217013}]\n",
      "{'amount': 4561.79, 'prediction': 4236.485175217013}\n",
      "{'transaction_id': 'f0c7b12d-90a9-4db8-81c3-8a80e7b4b7c4', 'timestamp': 1755279318, 'user_id': 36781, 'amount': 4561.79, 'transaction_type': 'transfer', 'location': 'South Ian', 'location_id': 99292, 'merchant': 'Madden-Meadows', 'card_number': '4444450322816763'}\n",
      "[{'amount': 4969.18, 'prediction': 4378.761723711146}]\n",
      "{'amount': 4969.18, 'prediction': 4378.761723711146}\n",
      "{'transaction_id': '46b871cb-0c60-4688-8290-1636eed5537e', 'timestamp': 1755279322, 'user_id': 25715, 'amount': 4969.18, 'transaction_type': 'purchase', 'location': 'Mooremouth', 'location_id': 74168, 'merchant': 'Russell-Bryan', 'card_number': '676183741617'}\n",
      "[{'amount': 869.54, 'prediction': 1276.1692523203644}]\n",
      "{'amount': 869.54, 'prediction': 1276.1692523203644}\n",
      "{'transaction_id': '58f261f9-5a4e-40f4-99f7-925c7b0f057c', 'timestamp': 1755279324, 'user_id': 55576, 'amount': 869.54, 'transaction_type': 'withdrawal', 'location': 'Port Kayla', 'location_id': 86477, 'merchant': 'Smith, Nguyen and Clark', 'card_number': '180043783820691'}\n",
      "[{'amount': 2692.65, 'prediction': 2759.77044859777}]\n",
      "{'amount': 2692.65, 'prediction': 2759.77044859777}\n",
      "{'transaction_id': '84b67e2a-d213-492a-8414-2274b06d911b', 'timestamp': 1755279332, 'user_id': 97708, 'amount': 2692.65, 'transaction_type': 'withdrawal', 'location': 'Vazquezshire', 'location_id': 97314, 'merchant': 'Joseph-Mcclure', 'card_number': '5400616670703238'}\n",
      "[{'amount': 2198.45, 'prediction': 2043.1905475703288}]\n",
      "{'amount': 2198.45, 'prediction': 2043.1905475703288}\n",
      "{'transaction_id': '0ddebb90-d8b2-4105-8a01-c58dcaf0dcb8', 'timestamp': 1755279336, 'user_id': 16583, 'amount': 2198.45, 'transaction_type': 'transfer', 'location': 'Davenportside', 'location_id': 90311, 'merchant': 'Whitehead-Robinson', 'card_number': '3547857437125427'}\n",
      "[{'amount': 3271.87, 'prediction': 3248.1926346836103}]\n",
      "{'amount': 3271.87, 'prediction': 3248.1926346836103}\n",
      "{'transaction_id': '331e8abc-b56d-4f9a-99de-eb2dc8048772', 'timestamp': 1755279343, 'user_id': 59795, 'amount': 3271.87, 'transaction_type': 'transfer', 'location': 'West Joseview', 'location_id': 66111, 'merchant': 'Ryan, Mcfarland and Tate', 'card_number': '630463671085'}\n",
      "[{'amount': 1941.76, 'prediction': 1951.8928856269172}]\n",
      "{'amount': 1941.76, 'prediction': 1951.8928856269172}\n",
      "{'transaction_id': '5e100635-0fbb-4a06-b1a4-6cb8835cb313', 'timestamp': 1755279346, 'user_id': 81976, 'amount': 1941.76, 'transaction_type': 'transfer', 'location': 'Nelsonside', 'location_id': 26415, 'merchant': 'Gonzalez PLC', 'card_number': '4297151255290897'}\n",
      "[{'amount': 2012.39, 'prediction': 2053.0552802049606}]\n",
      "{'amount': 2012.39, 'prediction': 2053.0552802049606}\n",
      "{'transaction_id': 'f3433cfa-9536-44d1-a95c-d515515b9e96', 'timestamp': 1755279351, 'user_id': 90719, 'amount': 2012.39, 'transaction_type': 'purchase', 'location': 'Lake Sallyberg', 'location_id': 81598, 'merchant': 'Williams Group', 'card_number': '2230393484190647'}\n",
      "[{'amount': 632.95, 'prediction': 836.5045145690264}]\n",
      "{'amount': 632.95, 'prediction': 836.5045145690264}\n",
      "{'transaction_id': '9111d632-8f29-4a1d-acce-7c6e688b2e40', 'timestamp': 1755279352, 'user_id': 27399, 'amount': 632.95, 'transaction_type': 'transfer', 'location': 'New Ronaldhaven', 'location_id': 43290, 'merchant': 'Navarro-Lewis', 'card_number': '3576943488143180'}\n",
      "[{'amount': 4752.93, 'prediction': 4355.191500829858}]\n",
      "{'amount': 4752.93, 'prediction': 4355.191500829858}\n",
      "{'transaction_id': '6723fcfc-8f63-4ef0-b0e8-a474f4e0b839', 'timestamp': 1755279358, 'user_id': 13692, 'amount': 4752.93, 'transaction_type': 'purchase', 'location': 'Lake Bradley', 'location_id': 87306, 'merchant': 'Durham-Holt', 'card_number': '2720632788809684'}\n",
      "[{'amount': 165.27, 'prediction': 527.4448690511363}]\n",
      "{'amount': 165.27, 'prediction': 527.4448690511363}\n",
      "{'transaction_id': '32120a98-84cd-4854-91be-aed418eb0bd4', 'timestamp': 1755279360, 'user_id': 62124, 'amount': 165.27, 'transaction_type': 'transfer', 'location': 'Port Benjamin', 'location_id': 39402, 'merchant': 'Rodriguez-Chambers', 'card_number': '213172355260084'}\n",
      "[{'amount': 1793.43, 'prediction': 1980.4356251999948}]\n",
      "{'amount': 1793.43, 'prediction': 1980.4356251999948}\n",
      "{'transaction_id': '9613ff68-3d84-46d5-9aac-dd5463cf85b2', 'timestamp': 1755279396, 'user_id': 29067, 'amount': 1793.43, 'transaction_type': 'transfer', 'location': 'New Amanda', 'location_id': 32003, 'merchant': 'Vazquez-Fitzpatrick', 'card_number': '377411992695803'}\n",
      "[{'amount': 2956.99, 'prediction': 3198.4668477281757}]\n",
      "{'amount': 2956.99, 'prediction': 3198.4668477281757}\n",
      "{'transaction_id': '8ca6f6ed-e1ce-470a-84b4-923821f5e83b', 'timestamp': 1755279406, 'user_id': 14526, 'amount': 2956.99, 'transaction_type': 'purchase', 'location': 'South Richard', 'location_id': 18581, 'merchant': 'Gray-Johnson', 'card_number': '4483207431964997'}\n",
      "[{'amount': 2729.5, 'prediction': 2882.6452526336016}]\n",
      "{'amount': 2729.5, 'prediction': 2882.6452526336016}\n",
      "{'transaction_id': '27b2c3eb-0c26-4317-be57-4a36bb6dcfec', 'timestamp': 1755279410, 'user_id': 35943, 'amount': 2729.5, 'transaction_type': 'transfer', 'location': 'South Ashleyborough', 'location_id': 71167, 'merchant': 'Knight-Harrell', 'card_number': '6011044238630232'}\n",
      "[{'amount': 1357.85, 'prediction': 1704.2853902142615}]\n",
      "{'amount': 1357.85, 'prediction': 1704.2853902142615}\n",
      "{'transaction_id': '3d08c592-07c2-4d8c-b096-a88c0d08ad3d', 'timestamp': 1755279416, 'user_id': 84450, 'amount': 1357.85, 'transaction_type': 'purchase', 'location': 'South Matthewview', 'location_id': 98624, 'merchant': 'Greene, Harris and Williams', 'card_number': '4306771849080576'}\n",
      "[{'amount': 1375.93, 'prediction': 1528.9894990258153}]\n",
      "{'amount': 1375.93, 'prediction': 1528.9894990258153}\n",
      "{'transaction_id': 'b3a59b10-60eb-49f9-85df-6740a1e2afc0', 'timestamp': 1755279422, 'user_id': 69508, 'amount': 1375.93, 'transaction_type': 'purchase', 'location': 'New Debramouth', 'location_id': 72604, 'merchant': 'Mooney, Stevens and Tran', 'card_number': '6518174392841545'}\n",
      "[{'amount': 110.96, 'prediction': 532.2355716562537}]\n",
      "{'amount': 110.96, 'prediction': 532.2355716562537}\n",
      "{'transaction_id': '526bcbb0-1052-4686-b6d5-a4da17beaa64', 'timestamp': 1755279423, 'user_id': 56018, 'amount': 110.96, 'transaction_type': 'transfer', 'location': 'Wagnerstad', 'location_id': 58833, 'merchant': 'Collins, Zimmerman and Meyer', 'card_number': '345279646335483'}\n",
      "[{'amount': 4021.33, 'prediction': 4068.3255756900007}]\n",
      "{'amount': 4021.33, 'prediction': 4068.3255756900007}\n",
      "{'transaction_id': '2cc06208-8a92-45bf-9683-1b74995e23a8', 'timestamp': 1755279424, 'user_id': 78468, 'amount': 4021.33, 'transaction_type': 'purchase', 'location': 'Joeport', 'location_id': 74778, 'merchant': 'Rhodes PLC', 'card_number': '4242181148921917839'}\n",
      "[{'amount': 1548.91, 'prediction': 1814.6608292420397}]\n",
      "{'amount': 1548.91, 'prediction': 1814.6608292420397}\n",
      "{'transaction_id': 'd9612f86-ee91-4b64-8609-268840e1863b', 'timestamp': 1755279429, 'user_id': 89912, 'amount': 1548.91, 'transaction_type': 'purchase', 'location': 'Hendricksside', 'location_id': 98091, 'merchant': 'Leblanc LLC', 'card_number': '4399231697714006'}\n",
      "[{'amount': 3499.25, 'prediction': 3513.91612119023}]\n",
      "{'amount': 3499.25, 'prediction': 3513.91612119023}\n",
      "{'transaction_id': '87a5c53f-13ef-4f6e-adce-8d493a2f7726', 'timestamp': 1755279433, 'user_id': 80421, 'amount': 3499.25, 'transaction_type': 'withdrawal', 'location': 'Port Brittney', 'location_id': 63294, 'merchant': 'Nelson-Bennett', 'card_number': '6011252066189011'}\n",
      "[{'amount': 4989.26, 'prediction': 4506.230669003432}]\n",
      "{'amount': 4989.26, 'prediction': 4506.230669003432}\n",
      "{'transaction_id': 'cb9df077-c4ec-4c3d-b674-0cea1e5f03a6', 'timestamp': 1755279435, 'user_id': 38014, 'amount': 4989.26, 'transaction_type': 'purchase', 'location': 'West Sierraburgh', 'location_id': 11780, 'merchant': 'Scott, Castaneda and White', 'card_number': '3512772989541791'}\n",
      "[{'amount': 1520.32, 'prediction': 1443.3378416718062}]\n",
      "{'amount': 1520.32, 'prediction': 1443.3378416718062}\n",
      "{'transaction_id': '66f81986-292d-49f1-bd95-bf4308db1d90', 'timestamp': 1755279437, 'user_id': 25407, 'amount': 1520.32, 'transaction_type': 'withdrawal', 'location': 'Aaronfort', 'location_id': 50530, 'merchant': 'Webb-Bowman', 'card_number': '213111750400820'}\n",
      "[{'amount': 1752.71, 'prediction': 1665.8065348688617}]\n",
      "{'amount': 1752.71, 'prediction': 1665.8065348688617}\n",
      "{'transaction_id': 'a7e53539-1230-49bb-92fa-de6ee398b1be', 'timestamp': 1755279450, 'user_id': 69302, 'amount': 1752.71, 'transaction_type': 'purchase', 'location': 'Keithhaven', 'location_id': 75501, 'merchant': 'Yang, Wilson and Day', 'card_number': '30481100111455'}\n",
      "[{'amount': 372.66, 'prediction': 554.7150968671118}]\n",
      "{'amount': 372.66, 'prediction': 554.7150968671118}\n",
      "{'transaction_id': '69c5eff5-85b2-4164-941d-8febcfab3866', 'timestamp': 1755279453, 'user_id': 28944, 'amount': 372.66, 'transaction_type': 'withdrawal', 'location': 'North Renee', 'location_id': 43598, 'merchant': 'Rivera-Randolph', 'card_number': '676213026815'}\n",
      "[{'amount': 303.34, 'prediction': 468.778935162937}]\n",
      "{'amount': 303.34, 'prediction': 468.778935162937}\n",
      "{'transaction_id': 'a9f351ea-224f-42e9-995e-cb6c9efd5664', 'timestamp': 1755279457, 'user_id': 11593, 'amount': 303.34, 'transaction_type': 'withdrawal', 'location': 'South Michael', 'location_id': 60847, 'merchant': 'Flores, Dennis and Ramirez', 'card_number': '2257444614002315'}\n",
      "[{'amount': 1551.37, 'prediction': 2058.1828613419943}]\n",
      "{'amount': 1551.37, 'prediction': 2058.1828613419943}\n",
      "{'transaction_id': '0994e83a-c97f-477e-abd2-b24b94e08727', 'timestamp': 1755279462, 'user_id': 53071, 'amount': 1551.37, 'transaction_type': 'purchase', 'location': 'Danieltown', 'location_id': 10568, 'merchant': 'Strickland-Kim', 'card_number': '3594432200495878'}\n",
      "[{'amount': 1058.4, 'prediction': 1468.5913011268347}]\n",
      "{'amount': 1058.4, 'prediction': 1468.5913011268347}\n",
      "{'transaction_id': 'b19c8fa2-e930-49aa-8236-d0d813a561ad', 'timestamp': 1755279481, 'user_id': 34201, 'amount': 1058.4, 'transaction_type': 'purchase', 'location': 'Hubbardmouth', 'location_id': 92165, 'merchant': 'Dyer-Welch', 'card_number': '4608671899430686'}\n",
      "[{'amount': 1748.23, 'prediction': 2053.7591833657993}]\n",
      "{'amount': 1748.23, 'prediction': 2053.7591833657993}\n",
      "{'transaction_id': '1a0c8e76-1658-49c3-93da-c9f61672fd64', 'timestamp': 1755279489, 'user_id': 20031, 'amount': 1748.23, 'transaction_type': 'purchase', 'location': 'Thomasland', 'location_id': 22594, 'merchant': 'Hansen Group', 'card_number': '4353328684941115'}\n",
      "[{'amount': 1245.33, 'prediction': 1323.2034207903507}]\n",
      "{'amount': 1245.33, 'prediction': 1323.2034207903507}\n",
      "{'transaction_id': 'baf124da-0e90-4d1d-95f5-59f0267b4ff3', 'timestamp': 1755279497, 'user_id': 15405, 'amount': 1245.33, 'transaction_type': 'transfer', 'location': 'Lake Nicolemouth', 'location_id': 66221, 'merchant': 'Day Ltd', 'card_number': '4805893926705788'}\n"
     ]
    },
    {
     "data": {
      "text/html": [
       "<style scoped>\n",
       "  .ansiout {\n",
       "    display: block;\n",
       "    unicode-bidi: embed;\n",
       "    white-space: pre-wrap;\n",
       "    word-wrap: break-word;\n",
       "    word-break: break-all;\n",
       "    font-family: \"Menlo\", \"Monaco\", \"Consolas\", \"Ubuntu Mono\", \"Source Code Pro\", monospace;\n",
       "    font-size: 13px;\n",
       "    color: #555;\n",
       "    margin-left: 4px;\n",
       "    line-height: 19px;\n",
       "  }\n",
       "</style>"
      ]
     },
     "metadata": {
      "application/vnd.databricks.v1+output": {
       "arguments": {},
       "data": "",
       "errorSummary": "Cancelled",
       "errorTraceType": "html",
       "metadata": {},
       "type": "ipynbError"
      }
     },
     "output_type": "display_data"
    }
   ],
   "source": [
    "try:\n",
    "    while True:\n",
    "        msg = consumer.poll(1.0)\n",
    "\n",
    "        if msg is None:\n",
    "            continue\n",
    "        if msg.error():\n",
    "            print(f\"Kafka error: {msg.error()}\")\n",
    "            continue\n",
    "\n",
    "        data = msg.value().decode('utf-8')\n",
    "        json_data = json.loads(data)\n",
    "        d = pd.DataFrame([json_data])\n",
    "        spark_df = spark.createDataFrame(d)\n",
    "\n",
    "        assembler = VectorAssembler(inputCols=['amount', 'location_id'], outputCol=\"features\")\n",
    "        assembled = assembler.transform(spark_df).select(\"features\", \"amount\")\n",
    "\n",
    "        predicted = model.transform(assembled).select(\"amount\", \"prediction\").toPandas().to_dict(orient=\"records\")\n",
    "        print(predicted)\n",
    "        print(predicted[0])\n",
    "        collection_prediction.insert_one(predicted[0]) \n",
    "        \n",
    "        print(json_data)\n",
    "        collection.insert_one(json_data)\n",
    "\n",
    "except KeyboardInterrupt:\n",
    "    print(\"Stopping consumer...\")\n",
    "\n",
    "finally:\n",
    "    consumer.close()"
   ]
  }
 ],
 "metadata": {
  "application/vnd.databricks.v1+notebook": {
   "computePreferences": null,
   "dashboards": [],
   "environmentMetadata": {
    "base_environment": "",
    "environment_version": "1"
   },
   "inputWidgetPreferences": null,
   "language": "python",
   "notebookMetadata": {
    "pythonIndentUnit": 4
   },
   "notebookName": "kafka to mongodb",
   "widgets": {}
  },
  "language_info": {
   "name": "python"
  }
 },
 "nbformat": 4,
 "nbformat_minor": 0
}
